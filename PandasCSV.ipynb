{
  "nbformat": 4,
  "nbformat_minor": 0,
  "metadata": {
    "colab": {
      "provenance": [],
      "include_colab_link": true
    },
    "kernelspec": {
      "name": "python3",
      "display_name": "Python 3"
    },
    "language_info": {
      "name": "python"
    }
  },
  "cells": [
    {
      "cell_type": "markdown",
      "metadata": {
        "id": "view-in-github",
        "colab_type": "text"
      },
      "source": [
        "<a href=\"https://colab.research.google.com/github/Tanvir-Hasan2/All-types-of-gRPC-demo/blob/main/PandasCSV.ipynb\" target=\"_parent\"><img src=\"https://colab.research.google.com/assets/colab-badge.svg\" alt=\"Open In Colab\"/></a>"
      ]
    },
    {
      "cell_type": "code",
      "execution_count": null,
      "metadata": {
        "colab": {
          "base_uri": "https://localhost:8080/"
        },
        "id": "cmqZSy_R3Ldy",
        "outputId": "6270d65c-3f82-470f-c65d-2beeca783870"
      },
      "outputs": [
        {
          "output_type": "stream",
          "name": "stdout",
          "text": [
            "   12  23  200  300\n",
            "0  45  56   67   78\n",
            "1  13  34   34   67\n"
          ]
        }
      ],
      "source": [
        "import pandas as pd\n",
        "\n",
        "df = pd.read_csv('data1.csv')\n",
        "\n",
        "print(df)"
      ]
    },
    {
      "cell_type": "code",
      "source": [
        "import pandas as pd\n",
        "\n",
        "df = pd.read_csv('/content/drive/MyDrive/data1.csv')\n",
        "\n",
        "print(df.to_string())"
      ],
      "metadata": {
        "id": "_SwVdJGN98zD",
        "outputId": "e49a5c5a-2470-45bc-87f0-e5faf1258ae0",
        "colab": {
          "base_uri": "https://localhost:8080/"
        }
      },
      "execution_count": null,
      "outputs": [
        {
          "output_type": "stream",
          "name": "stdout",
          "text": [
            "   12  23  200  300\n",
            "0  45  56   67   78\n",
            "1  13  34   34   67\n"
          ]
        }
      ]
    },
    {
      "cell_type": "code",
      "source": [
        "import pandas as pd\n",
        "import sys\n",
        "!wget https://raw.githubusercontent.com/Tanvir-Hasan2/Python-Practice-Code/refs/heads/main/TanvirMathTest.py\n",
        "sys.path.append('/content')\n",
        "\n",
        "df = pd.read_csv('/content/drive/MyDrive/data1.csv')\n",
        "import MostaryMathTest as zn\n",
        "for i in df:\n",
        "  print(zn.printBigpi(int(i)),end=\"\\n\")\n",
        "  print(i,end=\"\\n\")"
      ],
      "metadata": {
        "id": "_7v3JLWJCE2m",
        "collapsed": true
      },
      "execution_count": null,
      "outputs": []
    },
    {
      "cell_type": "code",
      "source": [
        "import pandas as pd\n",
        "import sys\n",
        "!wget https://raw.githubusercontent.com/Tanvir-Hasan2/Python-Practice-Code/refs/heads/main/TanvirMathTest.py\n",
        "sys.path.append('/content')\n",
        "import MostaryMathTest as zn\n",
        "df = pd.read_csv('data1.csv')\n",
        "pi_val_list=[]\n",
        "for i in df:\n",
        "  pi_val_list.append(zn.printBigpi(int(i)))\n",
        "output_df=pd.DataFrame(pi_val_list,columns=[\"PI Val\"])\n",
        "output_df.to_csv('output.csv',index=False)"
      ],
      "metadata": {
        "id": "BGxt-Lu6SpWu"
      },
      "execution_count": null,
      "outputs": []
    }
  ]
}